{
 "metadata": {
  "name": "",
  "signature": "sha256:12535d9e14a8d6595b949b206f4581c5a8ca4b10261f48baf6c7049cd8e4e40f"
 },
 "nbformat": 3,
 "nbformat_minor": 0,
 "worksheets": [
  {
   "cells": [
    {
     "cell_type": "markdown",
     "metadata": {},
     "source": [
      "#Python @ Gif - Chapter 2 : Basic Python\n",
      "Jean-Marie Gom\u00e8s - 19/02/2015\n",
      "\n",
      "With a fair amount of help by the Python documentation: https://docs.python.org/3/tutorial/index.html\n",
      "\n",
      "## The atoms of Python\n",
      "\n",
      "Numbers, strings, booleans; they can be enclosed in variables to be named, recalled, modified, combined.\n",
      "These variables can be handled separately, or by groups. This is the role of structures that are called lists, tuples, dictionaries..."
     ]
    },
    {
     "cell_type": "markdown",
     "metadata": {},
     "source": [
      "## Lists, tuples, dictionaries\n",
      "\n",
      "### Lists"
     ]
    },
    {
     "cell_type": "code",
     "collapsed": false,
     "input": [
      "# Declare a list\n",
      "primes = [1, 2, 3, 5, 7, 9]"
     ],
     "language": "python",
     "metadata": {},
     "outputs": [],
     "prompt_number": 313
    },
    {
     "cell_type": "code",
     "collapsed": false,
     "input": [
      "type(primes)"
     ],
     "language": "python",
     "metadata": {},
     "outputs": [
      {
       "metadata": {},
       "output_type": "pyout",
       "prompt_number": 314,
       "text": [
        "list"
       ]
      }
     ],
     "prompt_number": 314
    },
    {
     "cell_type": "code",
     "collapsed": false,
     "input": [
      "#See the contents of a list\n",
      "primes"
     ],
     "language": "python",
     "metadata": {},
     "outputs": [
      {
       "metadata": {},
       "output_type": "pyout",
       "prompt_number": 315,
       "text": [
        "[1, 2, 3, 5, 7, 9]"
       ]
      }
     ],
     "prompt_number": 315
    },
    {
     "cell_type": "code",
     "collapsed": false,
     "input": [
      "#Access one elements\n",
      "#primes[0]\n",
      "primes[-1]"
     ],
     "language": "python",
     "metadata": {},
     "outputs": [
      {
       "metadata": {},
       "output_type": "pyout",
       "prompt_number": 316,
       "text": [
        "9"
       ]
      }
     ],
     "prompt_number": 316
    },
    {
     "cell_type": "code",
     "collapsed": false,
     "input": [
      "# Modify an element: lists are mutable!\n",
      "primes[5]= 11"
     ],
     "language": "python",
     "metadata": {},
     "outputs": [],
     "prompt_number": 317
    },
    {
     "cell_type": "code",
     "collapsed": false,
     "input": [
      "#Add an element at the end\n",
      "primes.append(13)"
     ],
     "language": "python",
     "metadata": {},
     "outputs": [],
     "prompt_number": 318
    },
    {
     "cell_type": "code",
     "collapsed": false,
     "input": [
      "# Copying a list\n",
      "primes_copy = primes"
     ],
     "language": "python",
     "metadata": {},
     "outputs": [],
     "prompt_number": 319
    },
    {
     "cell_type": "code",
     "collapsed": false,
     "input": [
      "# Deleting an element, e.g. with the \"del\" statement\n",
      "del primes[0]\n"
     ],
     "language": "python",
     "metadata": {},
     "outputs": [],
     "prompt_number": 320
    },
    {
     "cell_type": "code",
     "collapsed": false,
     "input": [
      "# Check primes_copy...\n",
      "primes_copy"
     ],
     "language": "python",
     "metadata": {},
     "outputs": [
      {
       "metadata": {},
       "output_type": "pyout",
       "prompt_number": 321,
       "text": [
        "[2, 3, 5, 7, 11, 13]"
       ]
      }
     ],
     "prompt_number": 321
    },
    {
     "cell_type": "markdown",
     "metadata": {},
     "source": [
      "\"Hey, my code is not working!\"\n",
      "\n",
      "If Clark_Kent is a list, \"Superman = Clark_Kent\" will only give a \"shallow\" copy, e.g. a new name to the same set of elements. Sending kryptonite to Superman will also injure Clark Kent.\n",
      "\n",
      "To do it the right way:"
     ]
    },
    {
     "cell_type": "code",
     "collapsed": false,
     "input": [
      "primes_copy = list(primes)\n",
      "\n",
      "# Test: concatenate with another list:\n",
      "primes = primes + [19, 23, 29]\n",
      "\n",
      "# (Addition is the only operation supported between two lists)\n",
      "print(primes)\n",
      "print(primes_copy)"
     ],
     "language": "python",
     "metadata": {},
     "outputs": [
      {
       "output_type": "stream",
       "stream": "stdout",
       "text": [
        "[2, 3, 5, 7, 11, 13, 19, 23, 29]\n",
        "[2, 3, 5, 7, 11, 13]\n"
       ]
      }
     ],
     "prompt_number": 322
    },
    {
     "cell_type": "code",
     "collapsed": false,
     "input": [
      "# We had numbers so far, but you can list anything... including lists.\n",
      "metalist = [primes, ['l', 'e', 't', 't', 'e', 'r', 's'], ['Carpe diem', 'quam minimum credula postero', '(Horace)']]"
     ],
     "language": "python",
     "metadata": {},
     "outputs": [],
     "prompt_number": 323
    },
    {
     "cell_type": "code",
     "collapsed": false,
     "input": [
      "#Access elements\n",
      "metalist[2][-1]"
     ],
     "language": "python",
     "metadata": {},
     "outputs": [
      {
       "metadata": {},
       "output_type": "pyout",
       "prompt_number": 324,
       "text": [
        "'(Horace)'"
       ]
      }
     ],
     "prompt_number": 324
    },
    {
     "cell_type": "markdown",
     "metadata": {},
     "source": [
      "A few useful methods for lists:\n",
      "\n",
      "append, extend, insert, remove, index, sort...\n",
      "\n",
      "Example : they can be used as stacks.\n"
     ]
    },
    {
     "cell_type": "code",
     "collapsed": false,
     "input": [
      "stack = [3, 4, 5]\n",
      "stack.append(6)\n",
      "stack.append(7)\n",
      "stack"
     ],
     "language": "python",
     "metadata": {},
     "outputs": [
      {
       "metadata": {},
       "output_type": "pyout",
       "prompt_number": 325,
       "text": [
        "[3, 4, 5, 6, 7]"
       ]
      }
     ],
     "prompt_number": 325
    },
    {
     "cell_type": "code",
     "collapsed": false,
     "input": [
      "stack.pop()\n",
      "stack"
     ],
     "language": "python",
     "metadata": {},
     "outputs": [
      {
       "metadata": {},
       "output_type": "pyout",
       "prompt_number": 326,
       "text": [
        "[3, 4, 5, 6]"
       ]
      }
     ],
     "prompt_number": 326
    },
    {
     "cell_type": "code",
     "collapsed": false,
     "input": [
      "stack.pop()\n",
      "stack.pop()\n",
      "stack"
     ],
     "language": "python",
     "metadata": {},
     "outputs": [
      {
       "metadata": {},
       "output_type": "pyout",
       "prompt_number": 327,
       "text": [
        "[3, 4]"
       ]
      }
     ],
     "prompt_number": 327
    },
    {
     "cell_type": "markdown",
     "metadata": {},
     "source": [
      "### Tuples"
     ]
    },
    {
     "cell_type": "markdown",
     "metadata": {},
     "source": [
      "A tuple is an immutable object, containing one or several elements.\n",
      "\n",
      "It is mostly used for storing heterogenous, fixed elements."
     ]
    },
    {
     "cell_type": "code",
     "collapsed": false,
     "input": [
      "# The parentheses are only mandatory for empty tuples.\n",
      "# Let's pack a tuple:\n",
      "beatles = ('John', 'Paul', 'George', 'Ringo', 1960, 1970)\n",
      "\n",
      "# For singletons, don't forget the comma!\n",
      "gcoat = ('Rachmaninov',)"
     ],
     "language": "python",
     "metadata": {},
     "outputs": [],
     "prompt_number": 328
    },
    {
     "cell_type": "code",
     "collapsed": false,
     "input": [
      "# The most interesting operation: unpacking\n",
      "# for a n-length tuple, there must be n variables\n",
      "lennon, mccartney, harrison, starr, dbegin, dend = beatles"
     ],
     "language": "python",
     "metadata": {},
     "outputs": [],
     "prompt_number": 329
    },
    {
     "cell_type": "markdown",
     "metadata": {},
     "source": [
      "Why bother using tuples while we have lists?\n",
      "\n",
      "Tuples are \"lighter\" than lists, which can help getting faster code. They also prevent you (or a piece of code) from modifying what shouldn't be."
     ]
    },
    {
     "cell_type": "markdown",
     "metadata": {},
     "source": [
      "###Sets\n",
      "Python also includes a data type for sets. A set is an unordered collection with no duplicate elements. Basic uses include membership testing and eliminating duplicate entries. Set objects also support mathematical operations like union, intersection, difference, and symmetric difference.\n",
      "\n",
      "For example:"
     ]
    },
    {
     "cell_type": "code",
     "collapsed": false,
     "input": [
      "best_bands = {'The Pink Floyd', 'The Beatles', 'La Compagnie Creole', 'The Pink Floyd'}\n",
      "print(best_bands)"
     ],
     "language": "python",
     "metadata": {},
     "outputs": [
      {
       "output_type": "stream",
       "stream": "stdout",
       "text": [
        "set(['The Pink Floyd', 'The Beatles', 'La Compagnie Creole'])\n"
       ]
      }
     ],
     "prompt_number": 330
    },
    {
     "cell_type": "markdown",
     "metadata": {},
     "source": [
      "### Dictionaries\n",
      "\n",
      "These associative memories are great at making \"key-value\" pairs. Example:"
     ]
    },
    {
     "cell_type": "code",
     "collapsed": false,
     "input": [
      "albums = {'Please Please Me':1963, 'With the Beatles':1963, 'A Hard Day\\'s Night':1964}"
     ],
     "language": "python",
     "metadata": {},
     "outputs": [],
     "prompt_number": 331
    },
    {
     "cell_type": "markdown",
     "metadata": {},
     "source": [
      "A few rules: \n",
      "\n",
      "    - keys are immutable (tuples are okay if they don't contain a mutable object)\n",
      "    - keys are unique\n",
      "    - a dict object is only indexed by its keys (it has no order)"
     ]
    },
    {
     "cell_type": "code",
     "collapsed": false,
     "input": [
      "# Adding values:\n",
      "albums['Beatles For Sale'] = 1964"
     ],
     "language": "python",
     "metadata": {},
     "outputs": [],
     "prompt_number": 332
    },
    {
     "cell_type": "code",
     "collapsed": false,
     "input": [
      "# An useful tool to retrieve all the keys:\n",
      "list(albums.keys())"
     ],
     "language": "python",
     "metadata": {},
     "outputs": [
      {
       "metadata": {},
       "output_type": "pyout",
       "prompt_number": 333,
       "text": [
        "[\"A Hard Day's Night\",\n",
        " 'With the Beatles',\n",
        " 'Please Please Me',\n",
        " 'Beatles For Sale']"
       ]
      }
     ],
     "prompt_number": 333
    },
    {
     "cell_type": "markdown",
     "metadata": {},
     "source": [
      "Conclusion : lists, dictionaries, tuples & co. are different ways of handling several \"atoms\": variables, booleans, strings... These structures come with different methods and different contexts of use."
     ]
    },
    {
     "cell_type": "markdown",
     "metadata": {},
     "source": [
      "## Real stuff: slices, iterators, list comprehensions\n",
      "\n",
      "### Slices\n",
      "Because access to elements one by one is boooooring (and slow)."
     ]
    },
    {
     "cell_type": "code",
     "collapsed": false,
     "input": [
      "# Remember the prime list?\n",
      "# Access several elements using slices:\n",
      "print(primes[1:3], primes[2:])"
     ],
     "language": "python",
     "metadata": {},
     "outputs": [
      {
       "output_type": "stream",
       "stream": "stdout",
       "text": [
        "([3, 5], [5, 7, 11, 13, 19, 23, 29])\n"
       ]
      }
     ],
     "prompt_number": 334
    },
    {
     "cell_type": "code",
     "collapsed": false,
     "input": [
      "# It's also great for excluding elements, like downsampling:\n",
      "every_other_number = primes[::2]\n",
      "start_from_further = primes[3::2]"
     ],
     "language": "python",
     "metadata": {},
     "outputs": [],
     "prompt_number": 335
    },
    {
     "cell_type": "code",
     "collapsed": false,
     "input": [
      "# You can use it to retrieve a \"hard copy\" of data:\n",
      "primes_copy = primes[:]\n",
      "del primes[-1]\n",
      "print(primes_copy)"
     ],
     "language": "python",
     "metadata": {},
     "outputs": [
      {
       "output_type": "stream",
       "stream": "stdout",
       "text": [
        "[2, 3, 5, 7, 11, 13, 19, 23, 29]\n"
       ]
      }
     ],
     "prompt_number": 336
    },
    {
     "cell_type": "markdown",
     "metadata": {},
     "source": [
      "Slicing lets you extract / select elements simply and efficiently. This tool relies on the principles of iterators.\n",
      "\n",
      "### Iterators\n",
      "\n",
      "Let's start with what we see with the famous \"for loop\":"
     ]
    },
    {
     "cell_type": "code",
     "collapsed": false,
     "input": [
      "# \"It scans any iterable \"from left to right\"\n",
      "for element in primes:\n",
      "    print(element)\n",
      "    \n",
      "for key in albums:\n",
      "    print(key, albums[key])\n",
      "    \n",
      "for char in lennon:\n",
      "    print(char)"
     ],
     "language": "python",
     "metadata": {},
     "outputs": [
      {
       "output_type": "stream",
       "stream": "stdout",
       "text": [
        "2\n",
        "3\n",
        "5\n",
        "7\n",
        "11\n",
        "13\n",
        "19\n",
        "23\n",
        "(\"A Hard Day's Night\", 1964)\n",
        "('With the Beatles', 1963)\n",
        "('Please Please Me', 1963)\n",
        "('Beatles For Sale', 1964)\n",
        "J\n",
        "o\n",
        "h\n",
        "n\n"
       ]
      }
     ],
     "prompt_number": 337
    },
    {
     "cell_type": "code",
     "collapsed": false,
     "input": [
      "# Useful to traverse through data and use/modify it.\n",
      "squareprimes = []\n",
      "for elem in primes:\n",
      "    squareprimes.append(elem**2)"
     ],
     "language": "python",
     "metadata": {},
     "outputs": [],
     "prompt_number": 338
    },
    {
     "cell_type": "markdown",
     "metadata": {},
     "source": [
      "This powerful and ubiquitous mechanism raises two questions:\n",
      "\n",
      "1) What's behind the scene?\n",
      "\n",
      "2) Is the for loop always ultimately efficient? Can we do different/better?\n",
      "\n",
      "#### Behind the scene\n",
      "\n",
      "The for loop (and any iterative mechanism) is based on the iter() function, which creates a suitable object for the next() function."
     ]
    },
    {
     "cell_type": "code",
     "collapsed": false,
     "input": [
      "piece_by_piece = iter(lennon)\n",
      "piece_by_piece.next()\n",
      "#piece_by_piece.next()\n",
      "#piece_by_piece.next()\n",
      "#piece_by_piece.next()\n",
      "#piece_by_piece.next()\n"
     ],
     "language": "python",
     "metadata": {},
     "outputs": [
      {
       "metadata": {},
       "output_type": "pyout",
       "prompt_number": 339,
       "text": [
        "'J'"
       ]
      }
     ],
     "prompt_number": 339
    },
    {
     "cell_type": "markdown",
     "metadata": {},
     "source": [
      "This shades light on what happens when you use the open() method (very useful to read data efficiently!)."
     ]
    },
    {
     "cell_type": "code",
     "collapsed": false,
     "input": [
      "text =  open('/Users/Gus/Documents/Text.txt', 'r')\n",
      "text.readline()\n",
      "#text.readline()\n",
      "#text.readline()"
     ],
     "language": "python",
     "metadata": {},
     "outputs": [
      {
       "metadata": {},
       "output_type": "pyout",
       "prompt_number": 340,
       "text": [
        "'This is how\\n'"
       ]
      }
     ],
     "prompt_number": 340
    },
    {
     "cell_type": "markdown",
     "metadata": {},
     "source": [
      "iter() and next() are rarely used explicitely in scientific computing. There are a few interesting ways of telling python how you want to iterate *and* what you want to do with the iterations: \n",
      "\n",
      "#### List comprehensions\n",
      "\n",
      "Say you'd like to list the first elements of the numeric suite (3n-5): there's the dull, inefficient way (a for statement), and the clever, fast way."
     ]
    },
    {
     "cell_type": "code",
     "collapsed": false,
     "input": [
      "# The good ol' for:\n",
      "suite = []\n",
      "for x in range(8):\n",
      "    suite.append(3 * x - 5)\n",
      "\n",
      "print(suite)"
     ],
     "language": "python",
     "metadata": {},
     "outputs": [
      {
       "output_type": "stream",
       "stream": "stdout",
       "text": [
        "[-5, -2, 1, 4, 7, 10, 13, 16]\n"
       ]
      }
     ],
     "prompt_number": 341
    },
    {
     "cell_type": "markdown",
     "metadata": {},
     "source": [
      "Three lines that leave us with an useless x variable.\n",
      "\n",
      "So let's try a new syntax, the *list comprehension*:"
     ]
    },
    {
     "cell_type": "code",
     "collapsed": false,
     "input": [
      "# List comprehension:\n",
      "suite = [(3 * x - 5) for x in range(8)]"
     ],
     "language": "python",
     "metadata": {},
     "outputs": [],
     "prompt_number": 342
    },
    {
     "cell_type": "markdown",
     "metadata": {},
     "source": [
      "This one-liner is more concise and elegant, right?\n",
      "\n",
      "The recipe for a good punchline is (don't forget the brackets):\n",
      "\n",
      "[*expression* for *clause*]\n",
      "\n",
      "The clause can contain itself *for* or *if* statements. Here's an example that creates a list of tuples:"
     ]
    },
    {
     "cell_type": "code",
     "collapsed": false,
     "input": [
      "example = [(x, y) for x in [1,2,3] for y in [3,1,4] if x != y]\n",
      "example"
     ],
     "language": "python",
     "metadata": {},
     "outputs": [
      {
       "metadata": {},
       "output_type": "pyout",
       "prompt_number": 343,
       "text": [
        "[(1, 3), (1, 4), (2, 3), (2, 1), (2, 4), (3, 1), (3, 4)]"
       ]
      }
     ],
     "prompt_number": 343
    },
    {
     "cell_type": "markdown",
     "metadata": {},
     "source": [
      "The equivalent \"long-form statement\" is 5 lines long and its intricated nested structure hinders its clarity:"
     ]
    },
    {
     "cell_type": "code",
     "collapsed": false,
     "input": [
      "example = []\n",
      "for x in [1,2,3]:\n",
      "    for y in [3,1,4]:\n",
      "        if x != y:\n",
      "            example.append((x, y))\n",
      "example"
     ],
     "language": "python",
     "metadata": {},
     "outputs": [
      {
       "metadata": {},
       "output_type": "pyout",
       "prompt_number": 344,
       "text": [
        "[(1, 3), (1, 4), (2, 3), (2, 1), (2, 4), (3, 1), (3, 4)]"
       ]
      }
     ],
     "prompt_number": 344
    },
    {
     "cell_type": "markdown",
     "metadata": {},
     "source": [
      "It can also be used to filter data:"
     ]
    },
    {
     "cell_type": "code",
     "collapsed": false,
     "input": [
      "suite_pos = [elem for elem in suite if elem > 0]\n",
      "suite_pos"
     ],
     "language": "python",
     "metadata": {},
     "outputs": [
      {
       "metadata": {},
       "output_type": "pyout",
       "prompt_number": 345,
       "text": [
        "[1, 4, 7, 10, 13, 16]"
       ]
      }
     ],
     "prompt_number": 345
    },
    {
     "cell_type": "markdown",
     "metadata": {},
     "source": [
      "List comprehensions can also be nested, although it can be detrimental to clarity - or maybe there's already a built-in function for that..."
     ]
    },
    {
     "cell_type": "markdown",
     "metadata": {},
     "source": [
      "# That's all folks! Questions / Suggestions?"
     ]
    },
    {
     "cell_type": "code",
     "collapsed": false,
     "input": [],
     "language": "python",
     "metadata": {},
     "outputs": []
    }
   ],
   "metadata": {}
  }
 ]
}