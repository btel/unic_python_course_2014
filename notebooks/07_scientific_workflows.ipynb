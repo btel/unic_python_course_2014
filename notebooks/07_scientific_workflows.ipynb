{
 "cells": [
  {
   "cell_type": "code",
   "execution_count": 1,
   "metadata": {
    "collapsed": false
   },
   "outputs": [],
   "source": [
    "import numpy as np\n",
    "from quantities import ms, Hz\n",
    "\n",
    "from elephant.spike_train_generation import homogeneous_gamma_process\n",
    "\n",
    "from elephant.spike_train_correlation import corrcoef\n",
    "from elephant.conversion import BinnedSpikeTrain\n",
    "\n",
    "import neo "
   ]
  },
  {
   "cell_type": "code",
   "execution_count": 2,
   "metadata": {
    "collapsed": false
   },
   "outputs": [],
   "source": [
    "def generate_correlated_spike_trains(corr_coef, fr, tmax, n_cells=10, gamma_a=2.):\n",
    "    mother_spike_train = homogeneous_gamma_process(gamma_a, fr, 0*ms, tmax)\n",
    "    spiketrains = [homogeneous_gamma_process(gamma_a, fr, 0*ms, tmax)\n",
    "               for i in range(n_cells)]\n",
    "    for st in spiketrains:\n",
    "        n = min(len(mother_spike_train), len(st))\n",
    "        exchange = np.random.rand(n) < corr_coef\n",
    "        st[:n][exchange] = mother_spike_train[:n][exchange]\n",
    "        st.sort()\n",
    "    return spiketrains\n",
    "\n",
    "def save_sessions(fname, corr_coef, n_sessions=5):\n",
    "\n",
    "    for i in range(n_sessions):\n",
    "        r = neo.AsciiSpikeTrainIO(filename=fname.format(i))\n",
    "        spiketrains = generate_correlated_spike_trains(corr_coef, 50 * Hz, 1000 * ms, 10)\n",
    "        seg = neo.Segment()\n",
    "        seg.spiketrains = spiketrains\n",
    "        r.write_segment(seg)\n",
    "        \n",
    "save_sessions('data/workflows/v1_session_{}.txt', 0.2)\n",
    "save_sessions('data/workflows/lgn_session_{}.txt', 0.)"
   ]
  },
  {
   "cell_type": "code",
   "execution_count": 3,
   "metadata": {
    "collapsed": false
   },
   "outputs": [
    {
     "ename": "NameError",
     "evalue": "name 'spiketrains' is not defined",
     "output_type": "error",
     "traceback": [
      "\u001b[1;31m---------------------------------------------------------------------------\u001b[0m",
      "\u001b[1;31mNameError\u001b[0m                                 Traceback (most recent call last)",
      "\u001b[1;32m<ipython-input-3-f9fca76b618b>\u001b[0m in \u001b[0;36m<module>\u001b[1;34m()\u001b[0m\n\u001b[1;32m----> 1\u001b[1;33m \u001b[0mcorrcoef\u001b[0m\u001b[1;33m(\u001b[0m\u001b[0mBinnedSpikeTrain\u001b[0m\u001b[1;33m(\u001b[0m\u001b[0mspiketrains\u001b[0m\u001b[1;33m,\u001b[0m \u001b[0mbinsize\u001b[0m\u001b[1;33m=\u001b[0m\u001b[1;36m5\u001b[0m \u001b[1;33m*\u001b[0m \u001b[0mms\u001b[0m\u001b[1;33m)\u001b[0m\u001b[1;33m)\u001b[0m\u001b[1;33m\u001b[0m\u001b[0m\n\u001b[0m",
      "\u001b[1;31mNameError\u001b[0m: name 'spiketrains' is not defined"
     ]
    }
   ],
   "source": [
    "corrcoef(BinnedSpikeTrain(spiketrains, binsize=5 * ms))"
   ]
  },
  {
   "cell_type": "code",
   "execution_count": null,
   "metadata": {
    "collapsed": true
   },
   "outputs": [],
   "source": []
  }
 ],
 "metadata": {
  "kernelspec": {
   "display_name": "Python 2",
   "language": "python",
   "name": "python2"
  },
  "language_info": {
   "codemirror_mode": {
    "name": "ipython",
    "version": 2
   },
   "file_extension": ".py",
   "mimetype": "text/x-python",
   "name": "python",
   "nbconvert_exporter": "python",
   "pygments_lexer": "ipython2",
   "version": "2.7.10"
  }
 },
 "nbformat": 4,
 "nbformat_minor": 0
}
