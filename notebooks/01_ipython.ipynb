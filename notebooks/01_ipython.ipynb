{
 "metadata": {
  "name": "",
  "signature": "sha256:1a48d4197cd95ea27a3eb8c99296dbb2463e14d46d0694fff7089974939830ad"
 },
 "nbformat": 3,
 "nbformat_minor": 0,
 "worksheets": [
  {
   "cells": [
    {
     "cell_type": "markdown",
     "metadata": {},
     "source": [
      "# First Course : IPython \n",
      "\n",
      "##(Interactive Python for scientific computing)\n",
      "\n",
      "#### Installation\n",
      "\n",
      "Download the Anaconda installer\n",
      "\n",
      "http://continuum.io/downloads#all\n",
      "\n",
      "Install it and be sure to launch this version when you launch python and IPython\n",
      "(not the likely already installed version on your computer that will not have all the dependencies that we will use !)\n",
      "\n",
      "\n",
      "#### Introduction: the ipython demo on the Nature website \n",
      "\n",
      "http://www.nature.com/news/ipython-interactive-demo-7.21492\n",
      "\n",
      "for the following\n",
      "\n",
      "\n",
      "- you will need to execute cells with \"Shift-Enter\"\n",
      "\n",
      "- when you will edit this initial version (playing with the code, annotating it, adding external references), to choose between \"Code\" and \"Markdown\" (text), you should select the type you want in the menu (up)\n",
      "\n"
     ]
    },
    {
     "cell_type": "code",
     "collapsed": false,
     "input": [
      "# first we import what we will need\n",
      "\n",
      "# import the numerical library of python\n",
      "import numpy as np\n",
      "# import the pltting library of python\n",
      "import matplotlib.pylab as plt\n",
      "# to have the graphs inline, remove it if you don't want to\n",
      "%matplotlib inline"
     ],
     "language": "python",
     "metadata": {},
     "outputs": [],
     "prompt_number": 1
    },
    {
     "cell_type": "markdown",
     "metadata": {},
     "source": [
      "## Use of the documentation\n",
      "\n",
      "### As an illustrative example : the histogram function of a gaussian distributed random variable\n"
     ]
    },
    {
     "cell_type": "code",
     "collapsed": false,
     "input": [
      "# Let's generate a gaussian white noise\n",
      "\n",
      "# This is a numerical thing, so a priori implemented in numpy, it lies in the \"random\" modulus of numpy\n",
      "# let's look at the documentation of the modulus\n",
      "\n",
      "np.random?\n",
      "\n",
      "# Question mark to ask for the doc if you know the name of the function, else google it\n"
     ],
     "language": "python",
     "metadata": {},
     "outputs": [],
     "prompt_number": 2
    },
    {
     "cell_type": "code",
     "collapsed": false,
     "input": [
      "# we want : \n",
      "#  ----> randn                Normally distributed values.\n",
      "\n",
      "# Remember the structure : Functions (here \"randn()\" )are within Modulus (here \"random\")\n",
      "# are within Packages (here \"numpy\")\n",
      "# and access it with a \"dot\", here np.random.randn(), because numpy was imported as np#\n",
      "# else it would be numpy.random.randn()\n",
      "\n",
      "print np.random.randn() # we can print one value\n",
      "y = np.random.randn(200) # or generate an array of 200 values"
     ],
     "language": "python",
     "metadata": {},
     "outputs": [
      {
       "output_type": "stream",
       "stream": "stdout",
       "text": [
        "-1.57552759432\n"
       ]
      }
     ],
     "prompt_number": 3
    },
    {
     "cell_type": "code",
     "collapsed": false,
     "input": [
      "# let's plot it with matplotlib\n",
      "plt.plot(y, '+') # plotted with a '+' mark"
     ],
     "language": "python",
     "metadata": {},
     "outputs": [
      {
       "metadata": {},
       "output_type": "pyout",
       "prompt_number": 4,
       "text": [
        "[<matplotlib.lines.Line2D at 0x7f759a487390>]"
       ]
      },
      {
       "metadata": {},
       "output_type": "display_data",
       "png": "[encoded data removed]",
       "text": [
        "<matplotlib.figure.Figure at 0x7f75b87c0610>"
       ]
      }
     ],
     "prompt_number": 4
    },
    {
     "cell_type": "code",
     "collapsed": false,
     "input": [
      "# an histogram is a numerical thing, so a priori implemented in numpy as well\n",
      "np.histogram?\n",
      "\n",
      "# printed version lies below "
     ],
     "language": "python",
     "metadata": {},
     "outputs": [],
     "prompt_number": 5
    },
    {
     "cell_type": "markdown",
     "metadata": {},
     "source": [
      "# Important things to read in the documentation\n",
      "\n",
      "- What is necessary for the function ? And so what is optional ? If it's optional what is its default value ?\n",
      "\n",
      "here only the input array is necessary, the number of bins is optional because by default it will put it in 10 bins\n",
      "\n",
      "- The type !\n",
      "\n",
      "here the input should be list or a numpy array (everything what is array_like, see later course), not a float, not an integer, not a boolean, else this would result in a TypeError\n",
      "\n",
      "- What does it return ?\n",
      "\n",
      "here it returns two arrays, the value of the histogram and the bin edges, it stresses the fact that it returns arrays that have different sizes, you have one more element in the edges than in the histogram ! (what makes sense, there are more edges than intervals)\n",
      "In addition it mentions that the value of histogram depends on the arguments, whether you normalized it or not, etc...\n",
      "\n",
      "- Then: arguments and examples\n",
      "\n",
      "Then you may want a precise control of the output such as a normalized histogram. Very often, what you want is already implemented and just needs to be set by playing with the arguments. Here the examples are usually very informative about the output. Here, the examples tells you that when you use \"density=True\", the integral of your \"histogram\" over \"bin_edges\" will be 1"
     ]
    },
    {
     "cell_type": "code",
     "collapsed": false,
     "input": [
      "help(np.histogram) # you can print the documentation"
     ],
     "language": "python",
     "metadata": {},
     "outputs": [
      {
       "output_type": "stream",
       "stream": "stdout",
       "text": [
        "Help on function histogram in module numpy.lib.function_base:\n",
        "\n",
        "histogram(a, bins=10, range=None, normed=False, weights=None, density=None)\n",
        "    Compute the histogram of a set of data.\n",
        "    \n",
        "    Parameters\n",
        "    ----------\n",
        "    a : array_like\n",
        "        Input data. The histogram is computed over the flattened array.\n",
        "    bins : int or sequence of scalars, optional\n",
        "        If `bins` is an int, it defines the number of equal-width\n",
        "        bins in the given range (10, by default). If `bins` is a sequence,\n",
        "        it defines the bin edges, including the rightmost edge, allowing\n",
        "        for non-uniform bin widths.\n",
        "    range : (float, float), optional\n",
        "        The lower and upper range of the bins.  If not provided, range\n",
        "        is simply ``(a.min(), a.max())``.  Values outside the range are\n",
        "        ignored.\n",
        "    normed : bool, optional\n",
        "        This keyword is deprecated in Numpy 1.6 due to confusing/buggy\n",
        "        behavior. It will be removed in Numpy 2.0. Use the density keyword\n",
        "        instead.\n",
        "        If False, the result will contain the number of samples\n",
        "        in each bin.  If True, the result is the value of the\n",
        "        probability *density* function at the bin, normalized such that\n",
        "        the *integral* over the range is 1. Note that this latter behavior is\n",
        "        known to be buggy with unequal bin widths; use `density` instead.\n",
        "    weights : array_like, optional\n",
        "        An array of weights, of the same shape as `a`.  Each value in `a`\n",
        "        only contributes its associated weight towards the bin count\n",
        "        (instead of 1).  If `normed` is True, the weights are normalized,\n",
        "        so that the integral of the density over the range remains 1\n",
        "    density : bool, optional\n",
        "        If False, the result will contain the number of samples\n",
        "        in each bin.  If True, the result is the value of the\n",
        "        probability *density* function at the bin, normalized such that\n",
        "        the *integral* over the range is 1. Note that the sum of the\n",
        "        histogram values will not be equal to 1 unless bins of unity\n",
        "        width are chosen; it is not a probability *mass* function.\n",
        "        Overrides the `normed` keyword if given.\n",
        "    \n",
        "    Returns\n",
        "    -------\n",
        "    hist : array\n",
        "        The values of the histogram. See `normed` and `weights` for a\n",
        "        description of the possible semantics.\n",
        "    bin_edges : array of dtype float\n",
        "        Return the bin edges ``(length(hist)+1)``.\n",
        "    \n",
        "    \n",
        "    See Also\n",
        "    --------\n",
        "    histogramdd, bincount, searchsorted, digitize\n",
        "    \n",
        "    Notes\n",
        "    -----\n",
        "    All but the last (righthand-most) bin is half-open.  In other words, if\n",
        "    `bins` is::\n",
        "    \n",
        "      [1, 2, 3, 4]\n",
        "    \n",
        "    then the first bin is ``[1, 2)`` (including 1, but excluding 2) and the\n",
        "    second ``[2, 3)``.  The last bin, however, is ``[3, 4]``, which *includes*\n",
        "    4.\n",
        "    \n",
        "    Examples\n",
        "    --------\n",
        "    >>> np.histogram([1, 2, 1], bins=[0, 1, 2, 3])\n",
        "    (array([0, 2, 1]), array([0, 1, 2, 3]))\n",
        "    >>> np.histogram(np.arange(4), bins=np.arange(5), density=True)\n",
        "    (array([ 0.25,  0.25,  0.25,  0.25]), array([0, 1, 2, 3, 4]))\n",
        "    >>> np.histogram([[1, 2, 1], [1, 0, 1]], bins=[0,1,2,3])\n",
        "    (array([1, 4, 1]), array([0, 1, 2, 3]))\n",
        "    \n",
        "    >>> a = np.arange(5)\n",
        "    >>> hist, bin_edges = np.histogram(a, density=True)\n",
        "    >>> hist\n",
        "    array([ 0.5,  0. ,  0.5,  0. ,  0. ,  0.5,  0. ,  0.5,  0. ,  0.5])\n",
        "    >>> hist.sum()\n",
        "    2.4999999999999996\n",
        "    >>> np.sum(hist*np.diff(bin_edges))\n",
        "    1.0\n",
        "\n"
       ]
      }
     ],
     "prompt_number": 7
    },
    {
     "cell_type": "code",
     "collapsed": false,
     "input": [
      "# you can try some examples, e.g. the first one\n",
      "np.histogram([1, 2, 1], bins=[0, 1, 2, 3])"
     ],
     "language": "python",
     "metadata": {},
     "outputs": [
      {
       "metadata": {},
       "output_type": "pyout",
       "prompt_number": 8,
       "text": [
        "(array([0, 2, 1]), array([0, 1, 2, 3]))"
       ]
      }
     ],
     "prompt_number": 8
    },
    {
     "cell_type": "code",
     "collapsed": false,
     "input": [
      "# now, back to our array \"y\", let's generate it again:\n",
      "y = np.random.randn(200) # or generate an array of 200 values\n",
      "\n",
      "histogram, bin_edges = np.histogram(y) # using the default settings\n",
      "length_of_bin = bin_edges[1]-bin_edges[0] # length of the bin\n",
      "\n",
      "# then plot it, remember that they are not the same size, more edges than interval\n",
      "plt.bar(bin_edges[:-1], histogram, width=length_of_bin) # see the matplotlib course"
     ],
     "language": "python",
     "metadata": {},
     "outputs": [
      {
       "metadata": {},
       "output_type": "pyout",
       "prompt_number": 9,
       "text": [
        "<Container object of 10 artists>"
       ]
      },
      {
       "metadata": {},
       "output_type": "display_data",
       "png": "[encoded data removed]",
       "text": [
        "<matplotlib.figure.Figure at 0x7f759a49cf10>"
       ]
      }
     ],
     "prompt_number": 9
    },
    {
     "cell_type": "code",
     "collapsed": false,
     "input": [
      "# now we want it normalized with 50 bins, we adapt the code\n",
      "\n",
      "histogram, bin_edges = np.histogram(y, bins=50, density=True) # using the default settings\n",
      "length_of_bin = bin_edges[1]-bin_edges[0] # length of the bin\n",
      "\n",
      "# then plot it, remember that they are not the same size, more edges than interval\n",
      "plt.bar(bin_edges[:-1], histogram, width=length_of_bin) # see the matplotlib course"
     ],
     "language": "python",
     "metadata": {},
     "outputs": [
      {
       "metadata": {},
       "output_type": "pyout",
       "prompt_number": 10,
       "text": [
        "<Container object of 50 artists>"
       ]
      },
      {
       "metadata": {},
       "output_type": "display_data",
       "png": "[encoded data removed]",
       "text": [
        "<matplotlib.figure.Figure at 0x7f759a49c110>"
       ]
      }
     ],
     "prompt_number": 10
    },
    {
     "cell_type": "code",
     "collapsed": false,
     "input": [
      "# let's check that it is normalized (as in the documentation example)\n",
      "print np.sum(histogram*length_of_bin) # we have calculated length_of_bin before"
     ],
     "language": "python",
     "metadata": {},
     "outputs": [
      {
       "output_type": "stream",
       "stream": "stdout",
       "text": [
        "1.0\n"
       ]
      }
     ],
     "prompt_number": 11
    },
    {
     "cell_type": "markdown",
     "metadata": {},
     "source": [
      "# that's it for this session !\n",
      "\n",
      "just to finish, let's try to make it nice"
     ]
    },
    {
     "cell_type": "code",
     "collapsed": false,
     "input": [
      "# this will be treated in future sessions\n",
      "\n",
      "# with analytical probability \n",
      "# http://en.wikipedia.org/wiki/Normal_distribution, to remember the normalization !!!\n",
      "\n",
      "def gaussian(x, mu, sigma):\n",
      "    \"\"\"gaussian function of \"x\" with mean : \"mu\" and standard deviation \"sigma\" \"\"\" \n",
      "    return np.exp(-(x-mu)**2/(2.*sigma**2))/np.sqrt(2.*np.pi)/sigma\n",
      "\n",
      "# now we want it normalized with 50 bins, we adapt the code\n",
      "y = np.random.randn(400)\n",
      "\n",
      "histogram, bin_edges = np.histogram(y, bins=50, density=True) # using the default settings\n",
      "length_of_bin = bin_edges[1]-bin_edges[0] # length of the bin\n",
      "\n",
      "# then plot it, remember that they are not the same size, more edges than interval\n",
      "plt.bar(bin_edges[:-1], histogram, width=length_of_bin, label='finite sample') # see the matplotlib course\n",
      "x = np.linspace(-3, 3)\n",
      "plt.plot(x, gaussian(x, 0, 1), color='red', label='probability', linewidth=4)\n",
      "plt.ylabel('probability density')\n",
      "plt.xlabel('x - value')\n",
      "plt.xlim([-3.2, 3])\n",
      "plt.ylim([0, .6])\n",
      "plt.legend()\n",
      "plt.text(-2., .45,\n",
      "     r\"$\\mathcal{N}(x) = \\frac{\\mathrm{e}^{-(\\frac{x-\\mu}{\\sqrt{2} \\sigma})^2}}{\\sqrt{2 \\pi} \\sigma}$\",\n",
      "     horizontalalignment='center',\n",
      "     fontsize=20)\n"
     ],
     "language": "python",
     "metadata": {},
     "outputs": [
      {
       "metadata": {},
       "output_type": "pyout",
       "prompt_number": 12,
       "text": [
        "<matplotlib.text.Text at 0x7f759a1027d0>"
       ]
      },
      {
       "metadata": {},
       "output_type": "display_data",
       "png": "[encoded data removed]",
       "text": [
        "<matplotlib.figure.Figure at 0x7f759a114cd0>"
       ]
      }
     ],
     "prompt_number": 12
    },
    {
     "cell_type": "code",
     "collapsed": false,
     "input": [],
     "language": "python",
     "metadata": {},
     "outputs": []
    }
   ],
   "metadata": {}
  }
 ]
}